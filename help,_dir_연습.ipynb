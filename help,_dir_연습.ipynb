{
  "cells": [
    {
      "cell_type": "markdown",
      "metadata": {
        "id": "view-in-github",
        "colab_type": "text"
      },
      "source": [
        "<a href=\"https://colab.research.google.com/github/jeHanCindy/-/blob/main/help%2C_dir_%EC%97%B0%EC%8A%B5.ipynb\" target=\"_parent\"><img src=\"https://colab.research.google.com/assets/colab-badge.svg\" alt=\"Open In Colab\"/></a>"
      ]
    },
    {
      "cell_type": "code",
      "execution_count": 22,
      "metadata": {
        "colab": {
          "base_uri": "https://localhost:8080/"
        },
        "id": "EenTZEF-LvCy",
        "outputId": "f9e9c9ee-6b65-460c-aa63-810fe2c968ac"
      },
      "outputs": [
        {
          "output_type": "stream",
          "name": "stdout",
          "text": [
            "0          ConstantInputWarning\n",
            "1                    Covariance\n",
            "2         DegenerateDataWarning\n",
            "3                      FitError\n",
            "4      NearConstantInputWarning\n",
            "                 ...           \n",
            "329                   yulesimon\n",
            "330                        zipf\n",
            "331                     zipfian\n",
            "332                        zmap\n",
            "333                      zscore\n",
            "Length: 334, dtype: object\n",
            "['calibration', 'cluster', 'covariance', 'cross_decomposition', 'datasets', 'decomposition', 'dummy', 'ensemble', 'exceptions', 'experimental', 'externals', 'feature_extraction', 'feature_selection', 'gaussian_process', 'inspection', 'isotonic', 'kernel_approximation', 'kernel_ridge', 'linear_model', 'manifold', 'metrics', 'mixture', 'model_selection', 'multiclass', 'multioutput', 'naive_bayes', 'neighbors', 'neural_network', 'pipeline', 'preprocessing', 'random_projection', 'semi_supervised', 'svm', 'tree', 'discriminant_analysis', 'impute', 'compose', 'clone', 'get_config', 'set_config', 'config_context', 'show_versions']\n"
          ]
        }
      ],
      "source": [
        "import scipy.stats\n",
        "import pandas as pd\n",
        "import sklearn.tree\n",
        "import sklearn.ensemble\n",
        "\n",
        "# dir : 목록을 보고 싶어\n",
        "s = pd.Series(dir(scipy.stats))\n",
        "print(s)\n",
        "'''\n",
        "0          ConstantInputWarning\n",
        "1                    Covariance\n",
        "2         DegenerateDataWarning\n",
        "3                      FitError\n",
        "4      NearConstantInputWarning\n",
        "                 ...\n",
        "329                   yulesimon\n",
        "330                        zipf\n",
        "331                     zipfian\n",
        "332                        zmap\n",
        "333                      zscore\n",
        "'''\n",
        "\n",
        "print(sklearn.__all__)\n",
        "# ['calibration', 'cluster', 'covariance', 'cross_decomposition', 'datasets', 'decomposition', 'dummy', 'ensemble', 'exceptions', 'experimental', 'externals', 'feature_extraction', 'feature_selection', 'gaussian_process', 'inspection', 'isotonic', 'kernel_approximation', 'kernel_ridge', 'linear_model', 'manifold', 'metrics', 'mixture', 'model_selection', 'multiclass', 'multioutput', 'naive_bayes', 'neighbors', 'neural_network', 'pipeline', 'preprocessing', 'random_projection', 'semi_supervised', 'svm', 'tree', 'discriminant_analysis', 'impute', 'compose', 'clone', 'get_config', 'set_config', 'config_context', 'show_versions']\n",
        "\n",
        "# ensemble - RandomForestRegressor,\n",
        "# linear_model - LinearRegression, LogisticRegression\n",
        "# tree - DecisionTreeClassifier, DecisionTreeRegressor(이 함수는 과대적합의 위험이 있)\n",
        "# metrics\n",
        "# model_selection - train_test_split\n",
        "# neighbors - KNeighborsClassifier\n",
        "# preprocessing - MinMaxScaler, StandardScaler, LabelEncoder"
      ]
    },
    {
      "cell_type": "code",
      "source": [
        "## 내부 객체 확인\n",
        "# 방법 1\n",
        "pd.Series(dir(sklearn.tree))\n",
        " # 이런 식으로 사용하려면 import sklearn.tree과 같이 import하는 것이 필요함\n",
        "\n",
        "# 방법 2\n",
        "s =  pd.Series(dir(sklearn.ensemble))\n",
        "s[s.str.contains('Class')]"
      ],
      "metadata": {
        "colab": {
          "base_uri": "https://localhost:8080/"
        },
        "id": "SfXneYjaX3Yr",
        "outputId": "00f85b86-5fcd-4d69-9463-213576bcd098"
      },
      "execution_count": 29,
      "outputs": [
        {
          "output_type": "execute_result",
          "data": {
            "text/plain": [
              "0                 AdaBoostClassifier\n",
              "2                  BaggingClassifier\n",
              "5               ExtraTreesClassifier\n",
              "7         GradientBoostingClassifier\n",
              "9     HistGradientBoostingClassifier\n",
              "12            RandomForestClassifier\n",
              "15                StackingClassifier\n",
              "17                  VotingClassifier\n",
              "dtype: object"
            ]
          },
          "metadata": {},
          "execution_count": 29
        }
      ]
    }
  ],
  "metadata": {
    "colab": {
      "provenance": [],
      "authorship_tag": "ABX9TyNhseQZD9kVVIN0Xu3c2vw/",
      "include_colab_link": true
    },
    "kernelspec": {
      "display_name": "Python 3",
      "name": "python3"
    },
    "language_info": {
      "name": "python"
    }
  },
  "nbformat": 4,
  "nbformat_minor": 0
}