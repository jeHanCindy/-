{
  "nbformat": 4,
  "nbformat_minor": 0,
  "metadata": {
    "colab": {
      "provenance": [],
      "include_colab_link": true
    },
    "kernelspec": {
      "name": "python3",
      "display_name": "Python 3"
    },
    "language_info": {
      "name": "python"
    }
  },
  "cells": [
    {
      "cell_type": "markdown",
      "metadata": {
        "id": "view-in-github",
        "colab_type": "text"
      },
      "source": [
        "<a href=\"https://colab.research.google.com/github/jeHanCindy/-/blob/main/%ED%95%99%EC%8A%B5%EC%9A%A9_%5Bpandas_04%5D_Accessor_%EC%97%B0%EC%8A%B5_LAB_ipynb%EC%9D%98_%EC%82%AC%EB%B3%B8.ipynb\" target=\"_parent\"><img src=\"https://colab.research.google.com/assets/colab-badge.svg\" alt=\"Open In Colab\"/></a>"
      ]
    },
    {
      "cell_type": "markdown",
      "metadata": {
        "id": "JbOnc7BpmYd3"
      },
      "source": [
        "### 1.Accessor - str\n",
        "- str.strip('제거할 문자들') : 문자열의 앞/뒤에 불필요한 것을 제거함\n",
        "   - 제거할 문자들을 지정하지 않을 경우 whitespace를 제거함\n",
        "- str.split('구분자')\n",
        "   - 구분자를 지정하지 않을 경우 whitespace를 기준으로 분리함\n",
        "   - 각 구분된 내용은 str[0], str[1], .. 등으로 접근\n",
        "- str.join('구분자')\n",
        "   - 구분자 지정을 생략할 수 없음\n",
        "   - 분리된 문자열을 구분자를 사이에 넣어 하나의 문자열로 만듦\n",
        "- str.replace(전, 후)\n",
        "   - 문자열의 일부 내용을 변경 가능함\n",
        "   - 변경전 내용을 찾아 변경후 내용으로 바꿈   \n"
      ]
    },
    {
      "cell_type": "code",
      "metadata": {
        "id": "044cQzInmcXP"
      },
      "source": [
        "import pandas as pd"
      ],
      "execution_count": 1,
      "outputs": []
    },
    {
      "cell_type": "code",
      "metadata": {
        "colab": {
          "base_uri": "https://localhost:8080/"
        },
        "id": "odS0YHbumQqr",
        "outputId": "59db0492-8cbf-40bb-f1c7-b71787980a98"
      },
      "source": [
        "data = {'A': ['    김   수민 ', '  이  나라     ', '  황   소  라  '],\n",
        "        'B': ['  d2021-10-29.   ', '   \\n\\t\\r2021-10-30c    \\n', '2021-11-01c   '],\n",
        "        'C': ['*7', '6', '*7']}\n",
        "temp = pd.DataFrame(data)\n",
        "print(temp)"
      ],
      "execution_count": 2,
      "outputs": [
        {
          "output_type": "stream",
          "name": "stdout",
          "text": [
            "              A                           B   C\n",
            "0       김   수민              d2021-10-29.     *7\n",
            "1    이  나라          \\n\\t\\r2021-10-30c    \\n   6\n",
            "2    황   소  라                2021-11-01c     *7\n"
          ]
        }
      ]
    },
    {
      "cell_type": "code",
      "metadata": {
        "id": "V0eDNd9KmiIx",
        "colab": {
          "base_uri": "https://localhost:8080/",
          "height": 337
        },
        "outputId": "6b179008-e9d6-4e95-a649-d40b72c680bb"
      },
      "source": [
        "# [1] 'A' 컬럼의 데이터를 빈칸 없는 이름으로 만들어 temp의 'A'컬럼 뒤에 'A-01'컬럼으로 추가해 보세요.\n",
        "temp.insert(1, 'A-01', temp['A'].str.split().str.join(''))\n",
        "temp"
      ],
      "execution_count": 7,
      "outputs": [
        {
          "output_type": "error",
          "ename": "ValueError",
          "evalue": "ignored",
          "traceback": [
            "\u001b[0;31m---------------------------------------------------------------------------\u001b[0m",
            "\u001b[0;31mValueError\u001b[0m                                Traceback (most recent call last)",
            "\u001b[0;32m<ipython-input-7-e536688215c8>\u001b[0m in \u001b[0;36m<cell line: 2>\u001b[0;34m()\u001b[0m\n\u001b[1;32m      1\u001b[0m \u001b[0;31m# [1] 'A' 컬럼의 데이터를 빈칸 없는 이름으로 만들어 temp의 'A'컬럼 뒤에 'A-01'컬럼으로 추가해 보세요.\u001b[0m\u001b[0;34m\u001b[0m\u001b[0;34m\u001b[0m\u001b[0m\n\u001b[0;32m----> 2\u001b[0;31m \u001b[0mtemp\u001b[0m\u001b[0;34m.\u001b[0m\u001b[0minsert\u001b[0m\u001b[0;34m(\u001b[0m\u001b[0;36m1\u001b[0m\u001b[0;34m,\u001b[0m \u001b[0;34m'A-01'\u001b[0m\u001b[0;34m,\u001b[0m \u001b[0mtemp\u001b[0m\u001b[0;34m[\u001b[0m\u001b[0;34m'A'\u001b[0m\u001b[0;34m]\u001b[0m\u001b[0;34m.\u001b[0m\u001b[0mstr\u001b[0m\u001b[0;34m.\u001b[0m\u001b[0msplit\u001b[0m\u001b[0;34m(\u001b[0m\u001b[0;34m)\u001b[0m\u001b[0;34m.\u001b[0m\u001b[0mstr\u001b[0m\u001b[0;34m.\u001b[0m\u001b[0mjoin\u001b[0m\u001b[0;34m(\u001b[0m\u001b[0;34m''\u001b[0m\u001b[0;34m)\u001b[0m\u001b[0;34m)\u001b[0m\u001b[0;34m\u001b[0m\u001b[0;34m\u001b[0m\u001b[0m\n\u001b[0m\u001b[1;32m      3\u001b[0m \u001b[0mtemp\u001b[0m\u001b[0;34m\u001b[0m\u001b[0;34m\u001b[0m\u001b[0m\n",
            "\u001b[0;32m/usr/local/lib/python3.10/dist-packages/pandas/core/frame.py\u001b[0m in \u001b[0;36minsert\u001b[0;34m(self, loc, column, value, allow_duplicates)\u001b[0m\n\u001b[1;32m   4815\u001b[0m         \u001b[0;32mif\u001b[0m \u001b[0;32mnot\u001b[0m \u001b[0mallow_duplicates\u001b[0m \u001b[0;32mand\u001b[0m \u001b[0mcolumn\u001b[0m \u001b[0;32min\u001b[0m \u001b[0mself\u001b[0m\u001b[0;34m.\u001b[0m\u001b[0mcolumns\u001b[0m\u001b[0;34m:\u001b[0m\u001b[0;34m\u001b[0m\u001b[0;34m\u001b[0m\u001b[0m\n\u001b[1;32m   4816\u001b[0m             \u001b[0;31m# Should this be a different kind of error??\u001b[0m\u001b[0;34m\u001b[0m\u001b[0;34m\u001b[0m\u001b[0m\n\u001b[0;32m-> 4817\u001b[0;31m             \u001b[0;32mraise\u001b[0m \u001b[0mValueError\u001b[0m\u001b[0;34m(\u001b[0m\u001b[0;34mf\"cannot insert {column}, already exists\"\u001b[0m\u001b[0;34m)\u001b[0m\u001b[0;34m\u001b[0m\u001b[0;34m\u001b[0m\u001b[0m\n\u001b[0m\u001b[1;32m   4818\u001b[0m         \u001b[0;32mif\u001b[0m \u001b[0;32mnot\u001b[0m \u001b[0misinstance\u001b[0m\u001b[0;34m(\u001b[0m\u001b[0mloc\u001b[0m\u001b[0;34m,\u001b[0m \u001b[0mint\u001b[0m\u001b[0;34m)\u001b[0m\u001b[0;34m:\u001b[0m\u001b[0;34m\u001b[0m\u001b[0;34m\u001b[0m\u001b[0m\n\u001b[1;32m   4819\u001b[0m             \u001b[0;32mraise\u001b[0m \u001b[0mTypeError\u001b[0m\u001b[0;34m(\u001b[0m\u001b[0;34m\"loc must be int\"\u001b[0m\u001b[0;34m)\u001b[0m\u001b[0;34m\u001b[0m\u001b[0;34m\u001b[0m\u001b[0m\n",
            "\u001b[0;31mValueError\u001b[0m: cannot insert A-01, already exists"
          ]
        }
      ]
    },
    {
      "cell_type": "code",
      "source": [
        "print(temp)"
      ],
      "metadata": {
        "colab": {
          "base_uri": "https://localhost:8080/"
        },
        "id": "okK4kEb5IxrI",
        "outputId": "1ccfd239-867e-4d6a-c8e3-8074c1bbda80"
      },
      "execution_count": 9,
      "outputs": [
        {
          "output_type": "stream",
          "name": "stdout",
          "text": [
            "              A A-01                           B   C\n",
            "0       김   수민   김수민             d2021-10-29.     *7\n",
            "1    이  나라       이나라     \\n\\t\\r2021-10-30c    \\n   6\n",
            "2    황   소  라    황소라              2021-11-01c     *7\n"
          ]
        }
      ]
    },
    {
      "cell_type": "code",
      "metadata": {
        "id": "8uVbTsOqr6sB",
        "colab": {
          "base_uri": "https://localhost:8080/"
        },
        "outputId": "a6997ede-f5fa-478e-bb2b-587ea330efbf"
      },
      "source": [
        "# [2] 'B' 컬럼의 데이티를 2021-10-29 처럼 앞/뒤에 공백이나 다른 문자('.dc')가 없도록 만들어 \n",
        "# temp에 'B-01' 컬럼으로 추가해 보세요.\n",
        "temp['B-01'] = temp['B'].str.strip().str.strip('d.c')\n",
        "print(temp)"
      ],
      "execution_count": 13,
      "outputs": [
        {
          "output_type": "stream",
          "name": "stdout",
          "text": [
            "              A A-01                           B   C        B-01\n",
            "0       김   수민   김수민             d2021-10-29.     *7  2021-10-29\n",
            "1    이  나라       이나라     \\n\\t\\r2021-10-30c    \\n   6  2021-10-30\n",
            "2    황   소  라    황소라              2021-11-01c     *7  2021-11-01\n"
          ]
        }
      ]
    },
    {
      "cell_type": "code",
      "metadata": {
        "id": "i2MK6YY6soem"
      },
      "source": [
        "# [3] 'B-01' 컬럼의 데이터에서 '-'를 '/'로 수정해 temp에 'B-02' 컬럼으로 추가해 보세요.\n",
        "temp['B-02'] = temp['B-01'].str.replace('-', '/')\n",
        "# temp['B-01'].replace('-', '/', regex = True)\n",
        "# temp['B-01'].str.split('-').str.join('/')"
      ],
      "execution_count": 15,
      "outputs": []
    },
    {
      "cell_type": "code",
      "source": [
        "print(temp)"
      ],
      "metadata": {
        "colab": {
          "base_uri": "https://localhost:8080/"
        },
        "id": "XK0Jqr7_LEEN",
        "outputId": "9058aa41-194e-48fd-c134-7ac838742426"
      },
      "execution_count": 16,
      "outputs": [
        {
          "output_type": "stream",
          "name": "stdout",
          "text": [
            "              A A-01                           B   C        B-01        B-02\n",
            "0       김   수민   김수민             d2021-10-29.     *7  2021-10-29  2021/10/29\n",
            "1    이  나라       이나라     \\n\\t\\r2021-10-30c    \\n   6  2021-10-30  2021/10/30\n",
            "2    황   소  라    황소라              2021-11-01c     *7  2021-11-01  2021/11/01\n"
          ]
        }
      ]
    },
    {
      "cell_type": "code",
      "metadata": {
        "id": "ytRlgBPbuT52",
        "colab": {
          "base_uri": "https://localhost:8080/"
        },
        "outputId": "245fd884-5e69-462d-fe74-47c4527607d3"
      },
      "source": [
        "# [4] 'C' 컬럼에서 *을 제거하고 숫자로 변경해 'C-01'컬럼으로 추가해 보세요.\n",
        "temp['C-01'] = temp['C'].str.replace('*', '').astype('int')"
      ],
      "execution_count": 18,
      "outputs": [
        {
          "output_type": "stream",
          "name": "stderr",
          "text": [
            "<ipython-input-18-56cd4d155bf7>:2: FutureWarning: The default value of regex will change from True to False in a future version. In addition, single character regular expressions will *not* be treated as literal strings when regex=True.\n",
            "  temp['C-01'] = temp['C'].str.replace('*', '').astype('int')\n"
          ]
        }
      ]
    },
    {
      "cell_type": "code",
      "source": [
        "print(temp)"
      ],
      "metadata": {
        "colab": {
          "base_uri": "https://localhost:8080/"
        },
        "id": "8KIMc5v_Lntx",
        "outputId": "210dd530-0ac9-4661-b3c2-03b76c733d5d"
      },
      "execution_count": 19,
      "outputs": [
        {
          "output_type": "stream",
          "name": "stdout",
          "text": [
            "              A A-01                           B   C        B-01        B-02  \\\n",
            "0       김   수민   김수민             d2021-10-29.     *7  2021-10-29  2021/10/29   \n",
            "1    이  나라       이나라     \\n\\t\\r2021-10-30c    \\n   6  2021-10-30  2021/10/30   \n",
            "2    황   소  라    황소라              2021-11-01c     *7  2021-11-01  2021/11/01   \n",
            "\n",
            "   C-01  \n",
            "0     7  \n",
            "1     6  \n",
            "2     7  \n"
          ]
        }
      ]
    }
  ]
}