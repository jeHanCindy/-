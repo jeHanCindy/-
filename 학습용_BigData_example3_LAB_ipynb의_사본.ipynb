{
  "nbformat": 4,
  "nbformat_minor": 0,
  "metadata": {
    "colab": {
      "provenance": [],
      "include_colab_link": true
    },
    "kernelspec": {
      "name": "python3",
      "display_name": "Python 3"
    },
    "language_info": {
      "name": "python"
    }
  },
  "cells": [
    {
      "cell_type": "markdown",
      "metadata": {
        "id": "view-in-github",
        "colab_type": "text"
      },
      "source": [
        "<a href=\"https://colab.research.google.com/github/jeHanCindy/-/blob/main/%ED%95%99%EC%8A%B5%EC%9A%A9_BigData_example3_LAB_ipynb%EC%9D%98_%EC%82%AC%EB%B3%B8.ipynb\" target=\"_parent\"><img src=\"https://colab.research.google.com/assets/colab-badge.svg\" alt=\"Open In Colab\"/></a>"
      ]
    },
    {
      "cell_type": "markdown",
      "source": [
        "## 2.기출문제 (빅분기 실기 4회)"
      ],
      "metadata": {
        "id": "9wr6snMrGMHo"
      }
    },
    {
      "cell_type": "code",
      "source": [
        "# 데이터 다운로드"
      ],
      "metadata": {
        "id": "dvyzPcRnDb3w"
      },
      "execution_count": null,
      "outputs": []
    },
    {
      "cell_type": "code",
      "source": [
        "!git clone https://github.com/Soyoung-Yoon/bigdata"
      ],
      "metadata": {
        "id": "SqK7UuUrWqfP"
      },
      "execution_count": null,
      "outputs": []
    },
    {
      "cell_type": "markdown",
      "metadata": {
        "id": "XmsDHqDFBzM3"
      },
      "source": [
        "#### 2-1. 신상 데이터\n",
        "age 컬럼에 대해 아래의 과정을 수행하고 (다) 단계의 결과값을 출력하여라.\n",
        "- (가) 제 1사분위수와 제 3사분위수를 구하기\n",
        "- (나) 두 값의 차이 절댓값 구하기\n",
        "- (다) 그 값의 소수점 버리기\n"
      ]
    },
    {
      "cell_type": "code",
      "source": [
        "#'https://raw.githubusercontent.com/Soyoung-Yoon/bigdata/main/basic1_data04.csv'  파일 사용"
      ],
      "metadata": {
        "id": "ttr2QTVbvRMC"
      },
      "execution_count": null,
      "outputs": []
    },
    {
      "cell_type": "code",
      "source": [],
      "metadata": {
        "id": "UQvNfXEgKp6e"
      },
      "execution_count": null,
      "outputs": []
    },
    {
      "cell_type": "markdown",
      "metadata": {
        "id": "Uv_3WUzRCFV0"
      },
      "source": [
        "#### 2-2. Facebook 데이터\n",
        "\n",
        "Facebook 데이터셋을 불러와 (loves반응 + wows반응)/(reactions반응) 비율이 0.4보다 크고 0.5보다 작으면서, type이 'video'인 데이터의 갯수를 구하여라\n",
        "- 'https://raw.githubusercontent.com/Soyoung-Yoon/bigdata/main/fb_data04.csv' 파일 사용"
      ]
    },
    {
      "cell_type": "code",
      "source": [],
      "metadata": {
        "id": "FLkE8PWuwV-I"
      },
      "execution_count": null,
      "outputs": []
    },
    {
      "cell_type": "markdown",
      "metadata": {
        "id": "s0Iohr2QC6As"
      },
      "source": [
        "#### 2-3. 넷플릭스 데이터\n",
        "netflix_subset 데이터셋에서 date_added가 2018년 1월이면서 country가 United Kingdom 단독 제작인 데이터의 개수를 구하여라\n",
        "- 'https://raw.githubusercontent.com/Soyoung-Yoon/bigdata/main/nf_data04.csv' 파일 사용"
      ]
    },
    {
      "cell_type": "code",
      "metadata": {
        "id": "II4-4rISf1Ys"
      },
      "source": [],
      "execution_count": null,
      "outputs": []
    },
    {
      "cell_type": "markdown",
      "metadata": {
        "id": "SxegKonKDHPJ"
      },
      "source": [
        "## 3.기출문제 (빅분기 실기 4회)\n",
        "자동차 시장 세분화\n",
        "- 자동차 회사는 새로운 전략을 수립하기 위해 4개의 시장으로 세분화했습니다.\n",
        "- 기존 고객 분류 자료를 바탕으로 신규 고객이 어떤 분류에 속할지 예측해주세요!\n",
        "- 예측할 값(y): \"Segmentation\" (1,2,3,4)\n",
        "- 평가: Macro f1-score\n",
        "- 제출형식\n",
        "\n",
        "        ID,Segmentation\n",
        "        458989,1\n",
        "        458994,2\n",
        "        459000,3\n",
        "        459003,4"
      ]
    },
    {
      "cell_type": "markdown",
      "source": [
        "- 다음의 데이터 파일 준비를 실행해서 x_train.csv, y_train.csv, x_test.csv 파일을 준비합니다.\n"
      ],
      "metadata": {
        "id": "XegtsURWg8XJ"
      }
    },
    {
      "cell_type": "markdown",
      "metadata": {
        "id": "NCqn_6zOtyXi"
      },
      "source": [
        "### 3-01.데이터 불러오기, 탐색"
      ]
    },
    {
      "cell_type": "code",
      "source": [
        "# 데이터 파일 준비\n",
        "# 그냥 실행해서 사용 파일을 생성하도록 합니다.\n",
        "import pandas as pd\n",
        "\n",
        "train = pd.read_csv('https://raw.githubusercontent.com/Soyoung-Yoon/bigdata/main/train_04.csv')\n",
        "test = pd.read_csv('https://raw.githubusercontent.com/Soyoung-Yoon/bigdata/main/test_04.csv')\n",
        "train.head(2)\n",
        "X_train = train.iloc[:, :-1]\n",
        "Y_train = train[['ID', 'Segmentation']]\n",
        "X_train.to_csv('X_train.csv', index=False)\n",
        "Y_train.to_csv('Y_train.csv', index=False)\n",
        "test.to_csv('X_test.csv', index=False)\n",
        "print('파일을 준비했습니다!  X_train.csv, Y_train.csv, X_test.csv !')"
      ],
      "metadata": {
        "id": "Kbwq4Xf2WiZf",
        "colab": {
          "base_uri": "https://localhost:8080/"
        },
        "outputId": "0e3e396f-a934-46e7-fdb6-5cc0df1bb885"
      },
      "execution_count": 1,
      "outputs": [
        {
          "output_type": "stream",
          "name": "stdout",
          "text": [
            "파일을 준비했습니다!  X_train.csv, Y_train.csv, X_test.csv !\n"
          ]
        }
      ]
    },
    {
      "cell_type": "code",
      "metadata": {
        "id": "ljn7qAfH8uw2"
      },
      "source": [
        "# [0] 사용 라이브러리 import\n",
        "import pandas as pd\n",
        "import numpy as np\n",
        "\n",
        "from sklearn.metrics import mean_squared_error as mse\n",
        "from sklearn.metrics import mean_squared_log_error as msle\n",
        "from sklearn.metrics import mean_absolute_error as mae\n",
        "from sklearn.metrics import mean_absolute_percentage_error as mape\n",
        "from sklearn.metrics import f1_score, roc_auc_score\n",
        "\n",
        "from sklearn.preprocessing import MinMaxScaler, StandardScaler, LabelEncoder\n",
        "from sklearn.tree import DecisionTreeRegressor, DecisionTreeClassifier\n",
        "from sklearn.ensemble import RandomForestRegressor, RandomForestClassifier\n",
        "from sklearn.model_selection import train_test_split\n",
        "from sklearn.linear_model import LinearRegression, LogisticRegression\n",
        "from sklearn.neighbors import KNeighborsRegressor, KNeighborsClassifier\n",
        "\n",
        "# 데이타가 많은경우 모두 출력 안되고 ... 으로 생략해서 출력됨.\n",
        "pd.set_option('display.max_rows',500)    #출력할 max row를 지정\n",
        "pd.set_option('display.max_columns',20)  #출력할 max columns를 지정\n",
        "#출력 format 지정 - 소수점아래 2자리까지\n",
        "pd.set_option('display.float_format', '{:.2f}'.format)"
      ],
      "execution_count": 2,
      "outputs": []
    },
    {
      "cell_type": "code",
      "source": [
        "# [1] x_train.csv, y_train.csv, x_test.csv 읽어오기\n",
        "X = pd.read_csv('X_train.csv')\n",
        "Y = pd.read_csv('Y_train.csv')\n",
        "X_submission = pd.read_csv('X_test.csv')\n",
        "\n",
        "# print(X.shape, Y.shape, X_submission.shape)\n",
        "#print(X.head(2), Y.head(2), X_submission.head(2), sep = '\\n\\n')\n",
        "\n",
        "# [2] 데이터 전처리\n",
        "# y값의 범주별 분포 확인 - 안 해도 문제는 없음\n",
        "'''\n",
        "결측치 없음\n",
        "1   Gender           6665 non-null   object -> 0, 1\n",
        "2   Ever_Married     6665 non-null   object -> 0, 1\n",
        "4   Graduated        6665 non-null   object -> 0, 1\n",
        "5   Profession       6665 non-null   object 9개 ['Healthcare' 'Engineer' 'Lawyer' 'Artist' 'Doctor' 'Homemaker' 'Entertainment' 'Marketing' 'Executive'] -> LE\n",
        "7   Spending_Score   6665 non-null   object 3개 ['Low' 'High' 'Average'] -> OH\n",
        "9   Var_1            6665 non-null   object 7개 ['Cat_4' 'Cat_6' 'Cat_7' 'Cat_3' 'Cat_1' 'Cat_2' 'Cat_5'] -> LE\n",
        "'''\n",
        "dfX = pd.concat([X, X_submission], axis = 0)\n",
        "#dfX.info()\n",
        "#dfX.isna().sum()\n",
        "\n",
        "# print(dfX['Profession'].unique())\n",
        "# print(dfX['Spending_Score'].unique())\n",
        "#print(dfX[['Var_1']].value_counts())\n",
        "#print(Y['Segmentation'].value_counts(normalize = True))\n",
        "\n",
        "# 0, 1, LE\n",
        "for x in ['Gender', 'Ever_Married', 'Graduated', 'Profession', 'Var_1'] :\n",
        "  dfX[x] = dfX[x].astype('category').cat.codes\n",
        "\n",
        "temp = pd.get_dummies(dfX['Spending_Score'])\n",
        "# 만약 OH인코딩할게 많은 경우에는 아예 dfX[['컬럼명1', '컬럼명2']]로 입력\n",
        "dfX = pd.concat([dfX, temp], axis = 1)\n",
        "dfX = dfX.drop(columns = 'Spending_Score') # 새로운 컬럼이 생성되기 때문에 범주형 변수는 drop\n",
        "dfX.info()\n",
        "\n",
        "####################### 전처리 완료\n",
        "\n"
      ],
      "metadata": {
        "id": "mNl3dB0VmMxo",
        "colab": {
          "base_uri": "https://localhost:8080/"
        },
        "outputId": "637822f7-8748-4c72-fc79-52aba4ec2026"
      },
      "execution_count": 3,
      "outputs": [
        {
          "output_type": "stream",
          "name": "stdout",
          "text": [
            "<class 'pandas.core.frame.DataFrame'>\n",
            "Int64Index: 8819 entries, 0 to 2153\n",
            "Data columns (total 12 columns):\n",
            " #   Column           Non-Null Count  Dtype  \n",
            "---  ------           --------------  -----  \n",
            " 0   ID               8819 non-null   int64  \n",
            " 1   Gender           8819 non-null   int8   \n",
            " 2   Ever_Married     8819 non-null   int8   \n",
            " 3   Age              8819 non-null   int64  \n",
            " 4   Graduated        8819 non-null   int8   \n",
            " 5   Profession       8819 non-null   int8   \n",
            " 6   Work_Experience  8819 non-null   float64\n",
            " 7   Family_Size      8819 non-null   float64\n",
            " 8   Var_1            8819 non-null   int8   \n",
            " 9   Average          8819 non-null   uint8  \n",
            " 10  High             8819 non-null   uint8  \n",
            " 11  Low              8819 non-null   uint8  \n",
            "dtypes: float64(2), int64(2), int8(5), uint8(3)\n",
            "memory usage: 413.4 KB\n"
          ]
        }
      ]
    },
    {
      "cell_type": "code",
      "source": [
        "# [3] 데이터 모델링 & 평가\n",
        "# [3-1] 데이터 분리\n",
        "X1 = dfX.iloc[:X.shape[0], :]\n",
        "X_submission1 = dfX.iloc[X.shape[0]:, :]\n",
        "Y1 = Y['Segmentation']\n",
        "\n",
        "# print(X1.shape, X_submission1.shape, Y1.shape)\n",
        "# (6665, 12) (2154, 12) (6665,)\n",
        "\n",
        "# dfX.describe()\n",
        "scaler = MinMaxScaler()\n",
        "X1 = scaler.fit_transform(X1)\n",
        "X_submission1 = scaler.transform(X_submission1) # 왜냐하면 fit까지 있는 경우에는 X_submission1끼지 값을 변경하기 때문\n",
        "\n",
        "r = train_test_split(X1, Y1, test_size = 0.25, stratify = Y1, random_state = 1127)\n",
        "x_train, x_test, y_train, y_test = r\n",
        "# print([x.shape for x in r])\n",
        "# [(4998, 12), (1667, 12), (4998,), (1667,)]\n",
        "\n",
        "# [3-2] 데이터 모델링\n",
        "model1 = LogisticRegression().fit(x_train, y_train) # 훈련용 데이터\n",
        "y_pred = model1.predict(x_test) # X의 테스트 데이터로 예측\n",
        "\n",
        "a = model1.score(x_train, y_train)\n",
        "b = model1.score(x_test, y_test)\n",
        "c = f1_score(y_test, y_pred, average = 'macro') # 큰 값이 좋은 경우\n",
        "# 정확도, 훈련 데이터\n",
        "# f1_score(y_true, y_pred, average='macro') <- 이렇게 쓰라고 help에 나옴\n",
        "print(f'{a:.4f} {b:.4f} {c:.4f}')\n",
        "# 0.5060 0.5063 0.4764\n",
        "\n",
        "####################\n",
        "model2 = KNeighborsClassifier(3).fit(x_train, y_train) # 훈련용 데이터\n",
        "y_pred = model2.predict(x_test) # X의 테스트 데이터로 예측\n",
        "\n",
        "a = model2.score(x_train, y_train)\n",
        "b = model2.score(x_test, y_test)\n",
        "c = f1_score(y_test, y_pred, average = 'macro') # 큰 값이 좋은 경우\n",
        "# 정확도, 훈련 데이터\n",
        "# f1_score(y_true, y_pred, average='macro') <- 이렇게 쓰라고 help에 나옴\n",
        "print(f'{a:.4f} {b:.4f} {c:.4f}')\n",
        "# 0.6829 0.4547 0.4518\n",
        "\n",
        "####################\n",
        "model3 = DecisionTreeClassifier(max_depth = 5).fit(x_train, y_train) # 훈련용 데이터\n",
        "y_pred = model3.predict(x_test) # X의 테스트 데이터로 예측\n",
        "\n",
        "a = model3.score(x_train, y_train)\n",
        "b = model3.score(x_test, y_test)\n",
        "c = f1_score(y_test, y_pred, average = 'macro') # 큰 값이 좋은 경우\n",
        "# 정확도, 훈련 데이터\n",
        "# f1_score(y_true, y_pred, average='macro') <- 이렇게 쓰라고 help에 나옴\n",
        "print(f'{a:.4f} {b:.4f} {c:.4f}')\n",
        "# 0.4988 0.5009 0.4977\n",
        "# max_depth = 4 | 0.5246 0.5243 0.4991\n",
        "# max_depth = 5 | 0.5358 0.5261 0.5210\n",
        "\n",
        "####################\n",
        "model4 = RandomForestClassifier(max_depth = 3).fit(x_train, y_train) # 훈련용 데이터\n",
        "y_pred = model4.predict(x_test) # X의 테스트 데이터로 예측\n",
        "\n",
        "a = model4.score(x_train, y_train)\n",
        "b = model4.score(x_test, y_test)\n",
        "c = f1_score(y_test, y_pred, average = 'macro') # 큰 값이 좋은 경우\n",
        "# 정확도, 훈련 데이터\n",
        "# f1_score(y_true, y_pred, average='macro') <- 이렇게 쓰라고 help에 나옴\n",
        "print(f'{a:.4f} {b:.4f} {c:.4f}')\n",
        "# 0.5194 0.5027 0.4703\n",
        "\n",
        "\n"
      ],
      "metadata": {
        "id": "4vXO5PnAEGWL",
        "colab": {
          "base_uri": "https://localhost:8080/"
        },
        "outputId": "3523bbfc-8fe9-4ea7-8c66-431563626370"
      },
      "execution_count": 4,
      "outputs": [
        {
          "output_type": "stream",
          "name": "stdout",
          "text": [
            "0.5060 0.5063 0.4764\n",
            "0.6829 0.4547 0.4518\n",
            "0.5358 0.5261 0.5210\n",
            "0.5084 0.4895 0.4425\n"
          ]
        }
      ]
    },
    {
      "cell_type": "code",
      "source": [
        "# [4] 제출\n",
        "predict = model4.predict(X_submission1) #!!!!!! 꼭 제출용 데이터로 변경해줘야 함\n",
        "# predict : 예측값\n",
        "submission = pd.DataFrame({'Segmentation':predict}) # 확률로 제출하라 등의 지시문이 있는 경우 그것대로 저장\n",
        "submission.to_csv('수험번호.csv', index = False)"
      ],
      "metadata": {
        "id": "7xUMg0S77bOY"
      },
      "execution_count": 5,
      "outputs": []
    },
    {
      "cell_type": "code",
      "source": [
        "# 확인\n",
        "temp = pd.read_csv('수험번호.csv')\n",
        "temp.tail(5)"
      ],
      "metadata": {
        "colab": {
          "base_uri": "https://localhost:8080/",
          "height": 206
        },
        "id": "AKtrfwjD8UfO",
        "outputId": "7c192b10-5e5b-4d89-b039-b59924dc0708"
      },
      "execution_count": 6,
      "outputs": [
        {
          "output_type": "execute_result",
          "data": {
            "text/plain": [
              "      Segmentation\n",
              "2149             1\n",
              "2150             4\n",
              "2151             1\n",
              "2152             3\n",
              "2153             4"
            ],
            "text/html": [
              "\n",
              "  <div id=\"df-08867321-c2f2-4f2f-b603-f20de19baecd\">\n",
              "    <div class=\"colab-df-container\">\n",
              "      <div>\n",
              "<style scoped>\n",
              "    .dataframe tbody tr th:only-of-type {\n",
              "        vertical-align: middle;\n",
              "    }\n",
              "\n",
              "    .dataframe tbody tr th {\n",
              "        vertical-align: top;\n",
              "    }\n",
              "\n",
              "    .dataframe thead th {\n",
              "        text-align: right;\n",
              "    }\n",
              "</style>\n",
              "<table border=\"1\" class=\"dataframe\">\n",
              "  <thead>\n",
              "    <tr style=\"text-align: right;\">\n",
              "      <th></th>\n",
              "      <th>Segmentation</th>\n",
              "    </tr>\n",
              "  </thead>\n",
              "  <tbody>\n",
              "    <tr>\n",
              "      <th>2149</th>\n",
              "      <td>1</td>\n",
              "    </tr>\n",
              "    <tr>\n",
              "      <th>2150</th>\n",
              "      <td>4</td>\n",
              "    </tr>\n",
              "    <tr>\n",
              "      <th>2151</th>\n",
              "      <td>1</td>\n",
              "    </tr>\n",
              "    <tr>\n",
              "      <th>2152</th>\n",
              "      <td>3</td>\n",
              "    </tr>\n",
              "    <tr>\n",
              "      <th>2153</th>\n",
              "      <td>4</td>\n",
              "    </tr>\n",
              "  </tbody>\n",
              "</table>\n",
              "</div>\n",
              "      <button class=\"colab-df-convert\" onclick=\"convertToInteractive('df-08867321-c2f2-4f2f-b603-f20de19baecd')\"\n",
              "              title=\"Convert this dataframe to an interactive table.\"\n",
              "              style=\"display:none;\">\n",
              "        \n",
              "  <svg xmlns=\"http://www.w3.org/2000/svg\" height=\"24px\"viewBox=\"0 0 24 24\"\n",
              "       width=\"24px\">\n",
              "    <path d=\"M0 0h24v24H0V0z\" fill=\"none\"/>\n",
              "    <path d=\"M18.56 5.44l.94 2.06.94-2.06 2.06-.94-2.06-.94-.94-2.06-.94 2.06-2.06.94zm-11 1L8.5 8.5l.94-2.06 2.06-.94-2.06-.94L8.5 2.5l-.94 2.06-2.06.94zm10 10l.94 2.06.94-2.06 2.06-.94-2.06-.94-.94-2.06-.94 2.06-2.06.94z\"/><path d=\"M17.41 7.96l-1.37-1.37c-.4-.4-.92-.59-1.43-.59-.52 0-1.04.2-1.43.59L10.3 9.45l-7.72 7.72c-.78.78-.78 2.05 0 2.83L4 21.41c.39.39.9.59 1.41.59.51 0 1.02-.2 1.41-.59l7.78-7.78 2.81-2.81c.8-.78.8-2.07 0-2.86zM5.41 20L4 18.59l7.72-7.72 1.47 1.35L5.41 20z\"/>\n",
              "  </svg>\n",
              "      </button>\n",
              "      \n",
              "  <style>\n",
              "    .colab-df-container {\n",
              "      display:flex;\n",
              "      flex-wrap:wrap;\n",
              "      gap: 12px;\n",
              "    }\n",
              "\n",
              "    .colab-df-convert {\n",
              "      background-color: #E8F0FE;\n",
              "      border: none;\n",
              "      border-radius: 50%;\n",
              "      cursor: pointer;\n",
              "      display: none;\n",
              "      fill: #1967D2;\n",
              "      height: 32px;\n",
              "      padding: 0 0 0 0;\n",
              "      width: 32px;\n",
              "    }\n",
              "\n",
              "    .colab-df-convert:hover {\n",
              "      background-color: #E2EBFA;\n",
              "      box-shadow: 0px 1px 2px rgba(60, 64, 67, 0.3), 0px 1px 3px 1px rgba(60, 64, 67, 0.15);\n",
              "      fill: #174EA6;\n",
              "    }\n",
              "\n",
              "    [theme=dark] .colab-df-convert {\n",
              "      background-color: #3B4455;\n",
              "      fill: #D2E3FC;\n",
              "    }\n",
              "\n",
              "    [theme=dark] .colab-df-convert:hover {\n",
              "      background-color: #434B5C;\n",
              "      box-shadow: 0px 1px 3px 1px rgba(0, 0, 0, 0.15);\n",
              "      filter: drop-shadow(0px 1px 2px rgba(0, 0, 0, 0.3));\n",
              "      fill: #FFFFFF;\n",
              "    }\n",
              "  </style>\n",
              "\n",
              "      <script>\n",
              "        const buttonEl =\n",
              "          document.querySelector('#df-08867321-c2f2-4f2f-b603-f20de19baecd button.colab-df-convert');\n",
              "        buttonEl.style.display =\n",
              "          google.colab.kernel.accessAllowed ? 'block' : 'none';\n",
              "\n",
              "        async function convertToInteractive(key) {\n",
              "          const element = document.querySelector('#df-08867321-c2f2-4f2f-b603-f20de19baecd');\n",
              "          const dataTable =\n",
              "            await google.colab.kernel.invokeFunction('convertToInteractive',\n",
              "                                                     [key], {});\n",
              "          if (!dataTable) return;\n",
              "\n",
              "          const docLinkHtml = 'Like what you see? Visit the ' +\n",
              "            '<a target=\"_blank\" href=https://colab.research.google.com/notebooks/data_table.ipynb>data table notebook</a>'\n",
              "            + ' to learn more about interactive tables.';\n",
              "          element.innerHTML = '';\n",
              "          dataTable['output_type'] = 'display_data';\n",
              "          await google.colab.output.renderOutput(dataTable, element);\n",
              "          const docLink = document.createElement('div');\n",
              "          docLink.innerHTML = docLinkHtml;\n",
              "          element.appendChild(docLink);\n",
              "        }\n",
              "      </script>\n",
              "    </div>\n",
              "  </div>\n",
              "  "
            ]
          },
          "metadata": {},
          "execution_count": 6
        }
      ]
    }
  ]
}