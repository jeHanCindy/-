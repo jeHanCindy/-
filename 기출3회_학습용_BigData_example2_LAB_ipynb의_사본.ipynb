{
  "nbformat": 4,
  "nbformat_minor": 0,
  "metadata": {
    "colab": {
      "provenance": [],
      "collapsed_sections": [
        "U4yCvd7_4HQQ"
      ],
      "include_colab_link": true
    },
    "kernelspec": {
      "name": "python3",
      "display_name": "Python 3"
    },
    "language_info": {
      "name": "python"
    }
  },
  "cells": [
    {
      "cell_type": "markdown",
      "metadata": {
        "id": "view-in-github",
        "colab_type": "text"
      },
      "source": [
        "<a href=\"https://colab.research.google.com/github/jeHanCindy/-/blob/main/%EA%B8%B0%EC%B6%9C3%ED%9A%8C_%ED%95%99%EC%8A%B5%EC%9A%A9_BigData_example2_LAB_ipynb%EC%9D%98_%EC%82%AC%EB%B3%B8.ipynb\" target=\"_parent\"><img src=\"https://colab.research.google.com/assets/colab-badge.svg\" alt=\"Open In Colab\"/></a>"
      ]
    },
    {
      "cell_type": "markdown",
      "source": [
        "## 2.작업형1"
      ],
      "metadata": {
        "id": "U4yCvd7_4HQQ"
      }
    },
    {
      "cell_type": "code",
      "source": [
        "!git clone https://github.com/Soyoung-Yoon/bigdata"
      ],
      "metadata": {
        "id": "l_uAL496Wt1f",
        "colab": {
          "base_uri": "https://localhost:8080/"
        },
        "outputId": "fef7c5b5-000b-4e45-8668-2857d8f4f3b7"
      },
      "execution_count": null,
      "outputs": [
        {
          "output_type": "stream",
          "name": "stdout",
          "text": [
            "Cloning into 'bigdata'...\n",
            "remote: Enumerating objects: 41, done.\u001b[K\n",
            "remote: Counting objects: 100% (41/41), done.\u001b[K\n",
            "remote: Compressing objects: 100% (41/41), done.\u001b[K\n",
            "remote: Total 41 (delta 11), reused 0 (delta 0), pack-reused 0\u001b[K\n",
            "Unpacking objects: 100% (41/41), done.\n"
          ]
        }
      ]
    },
    {
      "cell_type": "code",
      "source": [
        "'https://raw.githubusercontent.com/Soyoung-Yoon/bigdata/main/'"
      ],
      "metadata": {
        "id": "LL4RoM9i6HeL"
      },
      "execution_count": null,
      "outputs": []
    },
    {
      "cell_type": "markdown",
      "source": [
        "### 2-1.캘리포니어 집값 데이터\n",
        "결측치를 포함하는 모든 행을 제거한 후, 처음부터 순서대로 70%를 추출하여, 'housing_median_age' 컬럼의 사분위수 Q1의 값을 구하시오\n",
        "- 주의사항 정답 제출시, 정수형으로 제출해야 함\n",
        "- \"https://raw.githubusercontent.com/Soyoung-Yoon/bigdata/main/housing03.csv\" 파일 사용"
      ],
      "metadata": {
        "id": "FbBF6ZmSp4Ge"
      }
    },
    {
      "cell_type": "code",
      "source": [
        "# 한 문자형 컬럼에 빈칸 ''인 데이터 1건이 있어서\n",
        "# 빈칸을 결측으로 처리시 빈칸 제거전 242건에서 빈칸 제거후 243건의 행이 제거됨\n",
        "# 하지만 제거하지 않고 1분위수를 구하더라도 정답은 같음"
      ],
      "metadata": {
        "id": "iWgEGO71cMSR"
      },
      "execution_count": null,
      "outputs": []
    },
    {
      "cell_type": "code",
      "execution_count": null,
      "metadata": {
        "id": "_x39Rr17pda0"
      },
      "outputs": [],
      "source": []
    },
    {
      "cell_type": "markdown",
      "source": [
        "### 2-2.연도별 나라별 유병률 데이터\n",
        "2000년 데이터에 대해 국가 전체 유병률 평균 값보다 큰 값을 가진 국가 개수는?\n",
        "(year 변수와 국가들의 결핵 유병률 값을 가진 데이터셋이 주어짐)\n",
        "\n",
        "        year  Afghanistan  Albania  Algeria  Andorra  Angola  Antigua & Barbuda  \\\n",
        "        0  1999            0     89.0     25.0    245.0   217.0              102.0\n",
        "        1  2000            0    132.0      0.0    138.0    57.0              128.0\n",
        "        2  2001            0     54.0     14.0    312.0    45.0               45.0\n",
        "        3  2002            0      4.9      0.7     12.4     5.9                4.9\n",
        "\n",
        "- 'https://raw.githubusercontent.com/Soyoung-Yoon/bigdata/main/worlddata.csv' 파일 사용"
      ],
      "metadata": {
        "id": "dvODvI5fqIUl"
      }
    },
    {
      "cell_type": "code",
      "source": [],
      "metadata": {
        "id": "DyKUpzd2qSx8"
      },
      "execution_count": null,
      "outputs": []
    },
    {
      "cell_type": "markdown",
      "source": [
        "### 2-3.타이타닉 데이터\n",
        "- 각 열의 결측치 비율을 확인 한 후, 결측치의 비율이 가장 높은 변수명을 구하시오\n",
        "- \"https://raw.githubusercontent.com/Soyoung-Yoon/bigdata/main/titanic_train03.csv\" 파일 사용\n",
        "- 원본 데이터 : https://www.kaggle.com/c/2019-1st-ml-month-with-kakr/overview"
      ],
      "metadata": {
        "id": "LP2f9AnEqT6V"
      }
    },
    {
      "cell_type": "code",
      "source": [],
      "metadata": {
        "id": "fSWeR7GcwMNm"
      },
      "execution_count": null,
      "outputs": []
    },
    {
      "cell_type": "markdown",
      "source": [
        "## 3.작업형2\n",
        "travel insurance 데이터 - 보험가입여부 예측\n",
        "- travel insurance 데이터를 활용해서 보험가입여부를 예측하라.\n",
        "- 데이터 : https://www.kaggle.com/agileteam/traval-insurance-exam\n",
        "80점 나왔을 때 30점?!\n",
        "- X_train.csv, y_train.csv\n",
        "- X_test.csv (예측해서 제출하는 것)\n",
        "- 평가: roc-auc 평가지표"
      ],
      "metadata": {
        "id": "_MC0WQLWsd3F"
      }
    },
    {
      "cell_type": "code",
      "source": [
        "# [0] 사용 라이브러리 import\n",
        "# 파일 생성을 위해 실행하여 주세요!  시험에서는 이런 것은 없습니다.\n",
        "import pandas as pd\n",
        "import numpy as np\n",
        "\n",
        "from sklearn.preprocessing import StandardScaler, MinMaxScaler\n",
        "from sklearn.linear_model import LogisticRegression, LinearRegression\n",
        "from sklearn.tree import DecisionTreeRegressor, DecisionTreeClassifier\n",
        "from sklearn.ensemble import RandomForestClassifier, RandomForestRegressor\n",
        "from sklearn.model_selection import train_test_split\n",
        "from sklearn.neighbors import KNeighborsClassifier, KNeighborsRegressor\n",
        "\n",
        "from sklearn.metrics import f1_score, roc_auc_score\n",
        "from sklearn.metrics import mean_absolute_error as mae\n",
        "from sklearn.metrics import mean_absolute_percentage_error as mape\n",
        "from sklearn.metrics import mean_squared_error as mse\n",
        "from sklearn.metrics import mean_squared_log_error as msle\n",
        "\n",
        "\n",
        "\n",
        "# 데이타가 많은경우 모두 출력 안되고 ... 으로 생략해서 출력됨.\n",
        "pd.set_option('display.max_rows',500)    #출력할 max row를 지정\n",
        "pd.set_option('display.max_columns',20)  #출력할 max columns를 지정\n",
        "#출력 format 지정 - 소수점아래 4자리까지\n",
        "pd.set_option('display.float_format', '{:.4f}'.format)\n",
        "\n",
        "train = pd.read_csv('https://raw.githubusercontent.com/Soyoung-Yoon/bigdata/main/travel_insurance_train03.csv')\n",
        "test = pd.read_csv('https://raw.githubusercontent.com/Soyoung-Yoon/bigdata/main/travel_insurance_test03.csv')\n",
        "Xtrain = train.drop(columns='TravelInsurance')\n",
        "Xtrain.to_csv('X_train.csv', index=False)\n",
        "train[['Unnamed: 0', 'TravelInsurance']].to_csv('y_train.csv', index=False)\n",
        "test.to_csv('X_test.csv', index=False)"
      ],
      "metadata": {
        "id": "E3WCDW1AaEpm"
      },
      "execution_count": 9,
      "outputs": []
    },
    {
      "cell_type": "code",
      "source": [
        "# 직접 코드를 작성해 보세요 ^_^\n",
        "# 셀을 추가하지 말고 작성해 보시기 바랍니다.\n",
        "\n",
        "# [0] 데이터 불러오기\n",
        "X_test = pd.read_csv('X_test.csv')\n",
        "X = pd.read_csv('X_train.csv')\n",
        "Y = pd.read_csv('y_train.csv')\n",
        "'''\n",
        "Y\n",
        "Unnamed: 0  TravelInsurance\n",
        "0           1704                0\n",
        "1            491                1\n",
        "'''\n",
        "# print(X_test.shape, X.shape, Y.shape)\n",
        "#    (497, 9)      (1490, 9) (1490, 2)\n",
        "\n",
        "# [1] 데이터 결측치 확인\n",
        "# [1-1] 결측치 확인\n",
        "dfX = pd.concat([X, X_test], axis = 0)\n",
        "# dfX.info()\n",
        "\n",
        "'''\n",
        "결측치 없음\n",
        "2   Employment Type      1987 non-null   object 2 -> OH ['Private Sector/Self Employed' 'Government Sector']\n",
        "3   GraduateOrNot        1987 non-null   object 2 -> OH ['Yes' 'No']\n",
        "7   FrequentFlyer        1987 non-null   object 2 -> OH ['No' 'Yes']\n",
        "8   EverTravelledAbroad  1987 non-null   object 2 -> OH ['Yes' 'No']\n",
        "'''\n",
        "temp = dfX[['Employment Type', 'GraduateOrNot', 'FrequentFlyer', 'EverTravelledAbroad']]\n",
        "# print(dfX['EverTravelledAbroad'].unique()) : 유일값 확인\n",
        "\n",
        "# [1-2] 결측치 대체\n",
        "for x in ['Employment Type', 'GraduateOrNot', 'FrequentFlyer', 'EverTravelledAbroad'] :\n",
        "  dfX[x] = dfX[x].astype('category').cat.codes\n",
        "# dfX.info()\n",
        "\n",
        "# [2] 데이터 모델링 & 평가\n",
        "# [2-1] 스케일링 <========================= 이 부분 외울 것\n",
        "X_scaled = MinMaxScaler().fit_transform(dfX)\n",
        "X1 = X_scaled[:X.shape[0], :]\n",
        "X_submission = X_scaled[X.shape[0]:, :]\n",
        "Y1 = Y['TravelInsurance']\n",
        "# print(X1.shape, X_submission.shape, Y1.shape)\n",
        "#    (1490, 9)  (497, 9)            (1490,)\n",
        "# !!!!!!!!!!!!!!!제출 데이터 수 항상 확인\n",
        "\n",
        "# [2-2] 모델 생성 <========================= 이 부분 외울 것\n",
        "r = train_test_split(X1, Y1, test_size = 0.25, stratify = Y1, random_state = 1234)\n",
        "x_train, x_test, y_train, y_test = r\n",
        "# print([x.shape for x in r])\n",
        "# [(1117, 9), (373, 9), (1117,), (373,)]\n",
        "\n",
        "# [2-3] 모델 평가 <========================= 이 부분 외울 것\n",
        "# 평가지표 : roc-auc 평가지표\n",
        "model = LogisticRegression().fit(x_train, y_train)\n",
        "y_pred = model.predict_proba(x_test)[:,1] # ndarray 타입\n",
        "# predict_proba : roc_auc_score의 경우 사용함. 이때는 인덱싱도 필요\n",
        "a, b, c = model.score(x_train, y_train), model.score(x_test, y_test), roc_auc_score(y_test, y_pred)\n",
        "# print(f'{a:.4f} {b:.4f} {c:.4f}')\n",
        "# 1.0000 0.7560 0.7319\n",
        "# 0.7735 0.7534 0.7597 <- predict_proba로 계산한 경우\n",
        "\n",
        "model2 = DecisionTreeClassifier().fit(x_train, y_train)\n",
        "y_pred = model2.predict_proba(x_test)[:,1] # ndarray 타입\n",
        "a, b, c = model2.score(x_train, y_train), model2.score(x_test, y_test), roc_auc_score(y_test, y_pred)\n",
        "print(f'{a:.4f} {b:.4f} {c:.4f}')\n",
        "# 1.0000 0.0132 0.7477 -> 과적합\n",
        "\n",
        "model3 = RandomForestClassifier(500, max_depth = 3, random_state = 1234).fit(x_train, y_train)\n",
        "y_pred = model3.predict_proba(x_test)[:,1] # ndarray 타입\n",
        "a, b, c = model3.score(x_train, y_train), model3.score(x_test, y_test), roc_auc_score(y_test, y_pred)\n",
        "print(f'{a:.4f} {b:.4f} {c:.4f}')\n",
        "# 0.7986 0.7855 0.7997\n",
        "\n",
        "# [3] 데이터 저장 <========================= 이 부분 외울 것\n",
        "prediction =  model3.predict_proba(X_submission)[:,1]\n",
        "\n",
        "submission = pd.DataFrame({'TravelInsurance':prediction})\n",
        "submission.to_csv('수험번호.csv', index = False)\n",
        "\n",
        "# [4] 데이터 확인\n",
        "temp = pd.read_csv('수험번호.csv')\n",
        "temp.tail(5)\n",
        "#temp.head(5)"
      ],
      "metadata": {
        "id": "aY9hecvAaYQA",
        "colab": {
          "base_uri": "https://localhost:8080/",
          "height": 243
        },
        "outputId": "83f6e264-273e-47f9-f14f-235a98335539"
      },
      "execution_count": 53,
      "outputs": [
        {
          "output_type": "stream",
          "name": "stdout",
          "text": [
            "1.0000 0.7453 0.7219\n",
            "0.7986 0.7855 0.7997\n"
          ]
        },
        {
          "output_type": "execute_result",
          "data": {
            "text/plain": [
              "     TravelInsurance\n",
              "492           0.2039\n",
              "493           0.1699\n",
              "494           0.2092\n",
              "495           0.2888\n",
              "496           0.2080"
            ],
            "text/html": [
              "\n",
              "  <div id=\"df-3e77b44a-f32e-4b1b-ba02-f12589521a0f\">\n",
              "    <div class=\"colab-df-container\">\n",
              "      <div>\n",
              "<style scoped>\n",
              "    .dataframe tbody tr th:only-of-type {\n",
              "        vertical-align: middle;\n",
              "    }\n",
              "\n",
              "    .dataframe tbody tr th {\n",
              "        vertical-align: top;\n",
              "    }\n",
              "\n",
              "    .dataframe thead th {\n",
              "        text-align: right;\n",
              "    }\n",
              "</style>\n",
              "<table border=\"1\" class=\"dataframe\">\n",
              "  <thead>\n",
              "    <tr style=\"text-align: right;\">\n",
              "      <th></th>\n",
              "      <th>TravelInsurance</th>\n",
              "    </tr>\n",
              "  </thead>\n",
              "  <tbody>\n",
              "    <tr>\n",
              "      <th>492</th>\n",
              "      <td>0.2039</td>\n",
              "    </tr>\n",
              "    <tr>\n",
              "      <th>493</th>\n",
              "      <td>0.1699</td>\n",
              "    </tr>\n",
              "    <tr>\n",
              "      <th>494</th>\n",
              "      <td>0.2092</td>\n",
              "    </tr>\n",
              "    <tr>\n",
              "      <th>495</th>\n",
              "      <td>0.2888</td>\n",
              "    </tr>\n",
              "    <tr>\n",
              "      <th>496</th>\n",
              "      <td>0.2080</td>\n",
              "    </tr>\n",
              "  </tbody>\n",
              "</table>\n",
              "</div>\n",
              "      <button class=\"colab-df-convert\" onclick=\"convertToInteractive('df-3e77b44a-f32e-4b1b-ba02-f12589521a0f')\"\n",
              "              title=\"Convert this dataframe to an interactive table.\"\n",
              "              style=\"display:none;\">\n",
              "        \n",
              "  <svg xmlns=\"http://www.w3.org/2000/svg\" height=\"24px\"viewBox=\"0 0 24 24\"\n",
              "       width=\"24px\">\n",
              "    <path d=\"M0 0h24v24H0V0z\" fill=\"none\"/>\n",
              "    <path d=\"M18.56 5.44l.94 2.06.94-2.06 2.06-.94-2.06-.94-.94-2.06-.94 2.06-2.06.94zm-11 1L8.5 8.5l.94-2.06 2.06-.94-2.06-.94L8.5 2.5l-.94 2.06-2.06.94zm10 10l.94 2.06.94-2.06 2.06-.94-2.06-.94-.94-2.06-.94 2.06-2.06.94z\"/><path d=\"M17.41 7.96l-1.37-1.37c-.4-.4-.92-.59-1.43-.59-.52 0-1.04.2-1.43.59L10.3 9.45l-7.72 7.72c-.78.78-.78 2.05 0 2.83L4 21.41c.39.39.9.59 1.41.59.51 0 1.02-.2 1.41-.59l7.78-7.78 2.81-2.81c.8-.78.8-2.07 0-2.86zM5.41 20L4 18.59l7.72-7.72 1.47 1.35L5.41 20z\"/>\n",
              "  </svg>\n",
              "      </button>\n",
              "      \n",
              "  <style>\n",
              "    .colab-df-container {\n",
              "      display:flex;\n",
              "      flex-wrap:wrap;\n",
              "      gap: 12px;\n",
              "    }\n",
              "\n",
              "    .colab-df-convert {\n",
              "      background-color: #E8F0FE;\n",
              "      border: none;\n",
              "      border-radius: 50%;\n",
              "      cursor: pointer;\n",
              "      display: none;\n",
              "      fill: #1967D2;\n",
              "      height: 32px;\n",
              "      padding: 0 0 0 0;\n",
              "      width: 32px;\n",
              "    }\n",
              "\n",
              "    .colab-df-convert:hover {\n",
              "      background-color: #E2EBFA;\n",
              "      box-shadow: 0px 1px 2px rgba(60, 64, 67, 0.3), 0px 1px 3px 1px rgba(60, 64, 67, 0.15);\n",
              "      fill: #174EA6;\n",
              "    }\n",
              "\n",
              "    [theme=dark] .colab-df-convert {\n",
              "      background-color: #3B4455;\n",
              "      fill: #D2E3FC;\n",
              "    }\n",
              "\n",
              "    [theme=dark] .colab-df-convert:hover {\n",
              "      background-color: #434B5C;\n",
              "      box-shadow: 0px 1px 3px 1px rgba(0, 0, 0, 0.15);\n",
              "      filter: drop-shadow(0px 1px 2px rgba(0, 0, 0, 0.3));\n",
              "      fill: #FFFFFF;\n",
              "    }\n",
              "  </style>\n",
              "\n",
              "      <script>\n",
              "        const buttonEl =\n",
              "          document.querySelector('#df-3e77b44a-f32e-4b1b-ba02-f12589521a0f button.colab-df-convert');\n",
              "        buttonEl.style.display =\n",
              "          google.colab.kernel.accessAllowed ? 'block' : 'none';\n",
              "\n",
              "        async function convertToInteractive(key) {\n",
              "          const element = document.querySelector('#df-3e77b44a-f32e-4b1b-ba02-f12589521a0f');\n",
              "          const dataTable =\n",
              "            await google.colab.kernel.invokeFunction('convertToInteractive',\n",
              "                                                     [key], {});\n",
              "          if (!dataTable) return;\n",
              "\n",
              "          const docLinkHtml = 'Like what you see? Visit the ' +\n",
              "            '<a target=\"_blank\" href=https://colab.research.google.com/notebooks/data_table.ipynb>data table notebook</a>'\n",
              "            + ' to learn more about interactive tables.';\n",
              "          element.innerHTML = '';\n",
              "          dataTable['output_type'] = 'display_data';\n",
              "          await google.colab.output.renderOutput(dataTable, element);\n",
              "          const docLink = document.createElement('div');\n",
              "          docLink.innerHTML = docLinkHtml;\n",
              "          element.appendChild(docLink);\n",
              "        }\n",
              "      </script>\n",
              "    </div>\n",
              "  </div>\n",
              "  "
            ]
          },
          "metadata": {},
          "execution_count": 53
        }
      ]
    }
  ]
}